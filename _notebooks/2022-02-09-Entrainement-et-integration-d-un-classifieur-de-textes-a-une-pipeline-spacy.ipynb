{
 "cells": [
  {
   "cell_type": "markdown",
   "metadata": {},
   "source": [
    "# Entraînement et intégration d'un classifieur de textes avec spaCy\n",
    "> \"Customiser une pipelines spaCy avec vos propres composants de NLP\"\n",
    "\n",
    "- toc: false\n",
    "- branch: master\n",
    "- badges: true\n",
    "- comments: true\n",
    "- categories: [fr, python, nlp, spaCy, ml, mlops]\n",
    "- hide: true\n",
    "- search_exclude: false"
   ]
  },
  {
   "cell_type": "markdown",
   "metadata": {},
   "source": [
    "## Introduction\n",
    "spaCy est une bibliothèque de Traitement Automatique du Langage Naturel (TALN ou NLP en anglais) et un framework pour industrialiser des applications de NLP et de Machine Learning.\n",
    "Cette bibliothèque comprend un grand nombre de fonctionalités classiques pour le traitement du langage naturel (tokenization, analyse syntaxique, POS-tagging, extraction d'entités), personalisables à l'envi et que l'on peut facilement compléter par des coposants personalisés pour des applications plus spécifiques (classification de textes, de token, et autres tâches spécifiques de NLP).\n",
    "\n",
    "Outre les fonctionalités de NLP et d'industrialisation du NLP, spaCy propose un grand nombre de modèles pré-entraînés qui permettent en quelques ligne de code de bénéficier de l'état de l'art sur des tâches complexes de NLP.\n",
    "\n",
    "Les ressources pour entraîner un modèle de machine learning sur du texte (classification, extraction d'entités, etc.) avec spaCy ne manquent pas, mais très peu vont jusqu'au bout du chemin: l'intégration avec d'autres composants standards et pré-entraînés de spaCy (ou d'autres fournisseurs), tels qu'un DependencyParser, tagger POS qui ne nécessitent pas de spécialisation ou de fine tuning.\n",
    "\n",
    "C'est pour combler ce manque que [ce notebook](https://github.com/ycouble/til/blob/master/_notebooks/2022-02-09-Entrainement-et-integration-d-un-classifieur-de-textes-a-une-pipeline-spacy.ipynb) existe : **vous guider dans le process de configuration d'un composant de classification de textes, de l'entraînement depuis un script python et jusqu'à son intégration dans une pipeline spaCy pré-entraînée afin qu'elle soit réutilisable depuis le reste de vos applications.**."
   ]
  },
  {
   "cell_type": "markdown",
   "metadata": {},
   "source": [
    "### Pre-requis\n",
    "Tout d'abord, installons les packages nécessaires pour ce tutoriel: spacy pour le NLP, pandas pour inspecter nos données, et sklearn qui va faciliter la séparation du jeu de données en splits."
   ]
  },
  {
   "cell_type": "code",
   "execution_count": 10,
   "metadata": {},
   "outputs": [
    {
     "name": "stdout",
     "output_type": "stream",
     "text": [
      "Note: you may need to restart the kernel to use updated packages.\n"
     ]
    }
   ],
   "source": [
    "%pip install -q \"spacy>3.0.0\" pandas sklearn"
   ]
  },
  {
   "cell_type": "markdown",
   "metadata": {},
   "source": [
    "Nous devons également télécharger un modèle pré-entraîné de spaCy : https://spacy.io/models/en#en_core_web_md. La ligne de commande suivante doit être exécutée depuis le même environnement que votre kernel de notebook."
   ]
  },
  {
   "cell_type": "code",
   "execution_count": null,
   "metadata": {},
   "outputs": [],
   "source": [
    "!python -m spacy download en_core_web_md"
   ]
  },
  {
   "cell_type": "markdown",
   "metadata": {},
   "source": [
    "## Les données & la tâche de classification\n",
    "\n",
    "Nous travaillerons sur un dataset qui a été extrait à travers l'API de reddit. Le dataset a déjà été préparé et nettoyé pour qu'il puisse être facilement importé et converti en documents spaCy.\n",
    "[Vous pourrez le trouver ici](https://github.com/ycouble/til/blob/master/_notebooks/spacy_textcat/reddit_data.csv).\n",
    "\n",
    "Le dataset est composé du corps de texte d'une selection de posts provenant de quelques subreddits liés à la data science.\n",
    "L'objectif de notre tâche de machine learning sera de deviner à partir du corps de texte de quel subreddit le post provient.\n",
    "Même si l'intérêt en soi est assez limité, c'est un bon point de départ pour démarrer et il présente l'avantage d'être déjà annoté.\n",
    "\n",
    "Jettons un oeil à ce qu'il y a dans le dataset."
   ]
  },
  {
   "cell_type": "code",
   "execution_count": 1,
   "metadata": {},
   "outputs": [
    {
     "data": {
      "text/html": [
       "<div>\n",
       "<style scoped>\n",
       "    .dataframe tbody tr th:only-of-type {\n",
       "        vertical-align: middle;\n",
       "    }\n",
       "\n",
       "    .dataframe tbody tr th {\n",
       "        vertical-align: top;\n",
       "    }\n",
       "\n",
       "    .dataframe thead th {\n",
       "        text-align: right;\n",
       "    }\n",
       "</style>\n",
       "<table border=\"1\" class=\"dataframe\">\n",
       "  <thead>\n",
       "    <tr style=\"text-align: right;\">\n",
       "      <th></th>\n",
       "      <th>text</th>\n",
       "      <th>tag</th>\n",
       "      <th>subreddit</th>\n",
       "      <th>id</th>\n",
       "    </tr>\n",
       "  </thead>\n",
       "  <tbody>\n",
       "    <tr>\n",
       "      <th>0</th>\n",
       "      <td>I’m looking for datasets or api source that quantifies fan base, or preferably, bettors’ sentiment regarding a team’s performance or direction. Does anyone know of an API that tracks this? For now I’m looking specifically for NBA, but am also interested in MLB, NFL, and NCAA f-ball and b-ball.</td>\n",
       "      <td>API</td>\n",
       "      <td>datasets</td>\n",
       "      <td>s0vufk</td>\n",
       "    </tr>\n",
       "    <tr>\n",
       "      <th>...</th>\n",
       "      <td>...</td>\n",
       "      <td>...</td>\n",
       "      <td>...</td>\n",
       "      <td>...</td>\n",
       "    </tr>\n",
       "    <tr>\n",
       "      <th>720</th>\n",
       "      <td>This _URL_ position is currently open and I wanted to share with you!</td>\n",
       "      <td>NaN</td>\n",
       "      <td>LanguageTechnology</td>\n",
       "      <td>s30ccv</td>\n",
       "    </tr>\n",
       "  </tbody>\n",
       "</table>\n",
       "<p>721 rows × 4 columns</p>\n",
       "</div>"
      ],
      "text/plain": [
       "                                                                                                                                                                                                                                                                                                       text  \\\n",
       "0    I’m looking for datasets or api source that quantifies fan base, or preferably, bettors’ sentiment regarding a team’s performance or direction. Does anyone know of an API that tracks this? For now I’m looking specifically for NBA, but am also interested in MLB, NFL, and NCAA f-ball and b-ball.   \n",
       "..                                                                                                                                                                                                                                                                                                      ...   \n",
       "720                                                                                                                                                                                                                                   This _URL_ position is currently open and I wanted to share with you!   \n",
       "\n",
       "     tag           subreddit      id  \n",
       "0    API            datasets  s0vufk  \n",
       "..   ...                 ...     ...  \n",
       "720  NaN  LanguageTechnology  s30ccv  \n",
       "\n",
       "[721 rows x 4 columns]"
      ]
     },
     "execution_count": 1,
     "metadata": {},
     "output_type": "execute_result"
    }
   ],
   "source": [
    "import pandas as pd\n",
    "\n",
    "pd.options.display.max_colwidth = None\n",
    "pd.options.display.max_rows = 3\n",
    "data = pd.read_csv(\"spacy_textcat/reddit_data.csv\")\n",
    "data"
   ]
  },
  {
   "cell_type": "code",
   "execution_count": 20,
   "metadata": {},
   "outputs": [
    {
     "data": {
      "text/plain": [
       "['datasets', 'dataengineering', 'LanguageTechnology']"
      ]
     },
     "execution_count": 20,
     "metadata": {},
     "output_type": "execute_result"
    }
   ],
   "source": [
    "# Let's also store the subreddits which are going to be our labels for the text classification component\n",
    "cats = data.subreddit.unique().tolist()\n",
    "cats"
   ]
  },
  {
   "cell_type": "markdown",
   "metadata": {},
   "source": [
    "Le dataset est composé d'un peu plus de 700 posts et de leurs subreddits associé.\n",
    "Créons maintenant les datasets d'entraînement et de validation en y incluant les annotations."
   ]
  },
  {
   "cell_type": "markdown",
   "metadata": {},
   "source": [
    "## Création du dataset d'entraînement\n",
    "Tout d'abord écrivons une fonction permettant de transformer le dataset dans le format binaire pour spacy, que l'on va stocker temporairement en local."
   ]
  },
  {
   "cell_type": "code",
   "execution_count": 21,
   "metadata": {},
   "outputs": [],
   "source": [
    "from typing import Set, List, Tuple\n",
    "from spacy.tokens import DocBin\n",
    "import spacy\n",
    "\n",
    "# Load spaCy pretrained model that we downloaded before\n",
    "nlp = spacy.load(\"en_core_web_md\")\n",
    "\n",
    "# Create a function to create a spacy dataset\n",
    "def make_docs(data: List[Tuple[str, str]], target_file: str, cats: Set[str]):\n",
    "    docs = DocBin()\n",
    "    # Use nlp.pipe to efficiently process a large number of text inputs, \n",
    "    # the as_tuple arguments enables giving a list of tuples as input and \n",
    "    # reuse it in the loop, here for the labels\n",
    "    for doc, label in nlp.pipe(data, as_tuples=True):\n",
    "        # Encode the labels (assign 1 the subreddit)\n",
    "        for cat in cats:\n",
    "            doc.cats[cat] = 1 if cat == label else 0\n",
    "        docs.add(doc)\n",
    "    docs.to_disk(target_file)\n",
    "    return docs"
   ]
  },
  {
   "cell_type": "markdown",
   "metadata": {},
   "source": [
    "Séparons jeux d'entraînement et de validation."
   ]
  },
  {
   "cell_type": "code",
   "execution_count": 22,
   "metadata": {},
   "outputs": [
    {
     "data": {
      "text/plain": [
       "<spacy.tokens._serialize.DocBin at 0x12b189100>"
      ]
     },
     "execution_count": 22,
     "metadata": {},
     "output_type": "execute_result"
    }
   ],
   "source": [
    "from sklearn.model_selection import train_test_split\n",
    "\n",
    "X_train, X_valid, y_train, y_valid = train_test_split(data[\"text\"].values, data[\"subreddit\"].values, test_size=0.3)\n",
    "\n",
    "make_docs(list(zip(X_train, y_train)), \"train.spacy\", cats=cats)\n",
    "make_docs(list(zip(X_valid, y_valid)), \"valid.spacy\", cats=cats)"
   ]
  },
  {
   "cell_type": "markdown",
   "metadata": {},
   "source": [
    "## Creation et configuration du composant de classification de textes"
   ]
  },
  {
   "cell_type": "markdown",
   "metadata": {},
   "source": [
    "Le workflow recommandé avec spaCy utilise des fichiers de configuration. Ils permettent de configurer chaque composant de la pipeline, de choisir quels composant entrâiner etc.\n",
    "\n",
    "Nous utiliserons [ce fichier de configuration](https://github.com/ycouble/til/blob/master/_notebooks/spacy_textcat/config.cfg), qui utilises le classifieur de textes par défaut de spaCy.\n",
    "La configuration peut être re-générée en suivant ce guide : https://spacy.io/usage/training#quickstart et nous l'avons customisé pour qu'il utilise ce model proposé par spaCy également : https://spacy.io/api/architectures#TextCatBOW.\n",
    "\n",
    "Il y a deux parties qu'il est important de noter dans ce fichier :\n",
    "\n",
    "1. La définition de la pipeline (sous le header `nlp`): La pipeline ne contient que le composant textcat (de classification) puisque c'est celui pour lequel nous avons des données annotées et le seul que nous allons entraîner aujourd'hui. Un autre détail qui a son importance est le tokenizer qui, comme on peut le voir est spécifié à cet endroit, et est ici laissé à la valeur par défaut proposée par spaCy. C'est le seul pré-requis pour notre composant `textcat`.\n",
    "\n",
    "```json\n",
    "[nlp]\n",
    "lang = \"en\"\n",
    "pipeline = [\"textcat\"]\n",
    "batch_size = 1000\n",
    "disabled = []\n",
    "before_creation = null\n",
    "after_creation = null\n",
    "after_pipeline_creation = null\n",
    "tokenizer = {\"@tokenizers\":\"spacy.Tokenizer.v1\"}\n",
    "```\n",
    "\n",
    "1. La spécification du modèle : Notons le paramètre  `exclusive_classes` qui a été mis à `true` puisque nos posts ne viennent que d'un seul subreddit. Notons aussi qu'il a fallu rajouter le prefix `components.textcat` dans les headers à la configuration donnée dans la documentation.\n",
    "\n",
    "```json\n",
    "[components.textcat]\n",
    "factory = \"textcat\"\n",
    "scorer = {\"@scorers\":\"spacy.textcat_scorer.v1\"}\n",
    "threshold = 0.5\n",
    "\n",
    "[components.textcat.model]\n",
    "@architectures = \"spacy.TextCatBOW.v2\"\n",
    "exclusive_classes = true\n",
    "ngram_size = 1\n",
    "no_output_layer = false\n",
    "nO = null\n",
    "```"
   ]
  },
  {
   "cell_type": "markdown",
   "metadata": {},
   "source": [
    "<details>\n",
    "  <summary>Plus de détails sur les pipelines SpaCy</summary>\n",
    "Une pipeline SpaCy est une architecture logicielle hautement modulaire et configurable spécialisée pour le traitement automatique de textes.\n",
    "Comme on peut le voir sur l'illustration plus bas, la pipeline contient une étape obligatoire qui est la tokenisation du document, brique de base utilisée par l'ensemble les algorithmes d'analyse de documents.\n",
    "Ensuite viennent une succession de composants (ou pipes) qui sont éxécutés dans l'ordre spécifié, mais qui ne dépendent pas nécessairement les uns des autres.\n",
    "Cela sera dans le code du composant que ces dépendences vont se définir, par exemple en accédant à des attributs définis dans l'objet document de SpaCy.\n",
    "<img src=\"spacy_textcat/spacy_pipeline.png\">\n",
    "</details>"
   ]
  },
  {
   "cell_type": "markdown",
   "metadata": {},
   "source": [
    "## Entraînement du composant de classification de textes"
   ]
  },
  {
   "cell_type": "markdown",
   "metadata": {},
   "source": [
    "Contrairement à ce qui peut être trouvé dans la plupart des tutoriels en ligne ou dans la documentation de SpaCy où l'entraînement est démarré depuis la CLI, nous allons essayer de lancer l'entraînement du composant directement depuis un script python.\n",
    "Cela a l'avantage de pouvoir faire cette étape de manière programmatique, par exemple depuis une pipeline de donnée (avec airflow, dagster, ou équivalent).\n",
    "\n",
    "Toutefois, nous utiliserons la fonction `train` pré-définie dans `spacy.cli.train` de telles sorte à bénéficier des fonctionalités de logging, adaptations et autres vérifications qui sont utilisée dans la CLI.\n",
    "Notons que l'on peut tout à fait, et très facilement partir directement du module `spacy.training` et de gérer le logging / interaction avec le système de fichier par nous même, ce qui serait recommandé dans du code de production."
   ]
  },
  {
   "cell_type": "code",
   "execution_count": 23,
   "metadata": {},
   "outputs": [
    {
     "name": "stdout",
     "output_type": "stream",
     "text": [
      "\u001b[38;5;4mℹ Saving to output directory: output/spacy_textcat\u001b[0m\n",
      "\u001b[38;5;4mℹ Using CPU\u001b[0m\n",
      "\u001b[1m\n",
      "=========================== Initializing pipeline ===========================\u001b[0m\n",
      "\u001b[38;5;2m✔ Initialized pipeline\u001b[0m\n",
      "\u001b[1m\n",
      "============================= Training pipeline =============================\u001b[0m\n",
      "\u001b[38;5;4mℹ Pipeline: ['textcat']\u001b[0m\n",
      "\u001b[38;5;4mℹ Initial learn rate: 0.001\u001b[0m\n",
      "E    #       LOSS TEXTCAT  CATS_SCORE  SCORE \n",
      "---  ------  ------------  ----------  ------\n",
      "  0       0          0.67        3.31    0.03\n",
      "  0     200         97.52       46.14    0.46\n",
      "  0     400         59.67       61.38    0.61\n",
      "  1     600         19.23       73.74    0.74\n",
      "  1     800         11.17       75.77    0.76\n",
      "  2    1000          2.12       74.20    0.74\n",
      "  3    1200          1.19       75.33    0.75\n",
      "  4    1400          0.71       76.68    0.77\n",
      "  4    1600          0.35       75.91    0.76\n",
      "  6    1800          0.28       77.79    0.78\n",
      "  7    2000          0.21       77.91    0.78\n",
      "  9    2200          0.18       77.49    0.77\n",
      " 11    2400          0.06       79.36    0.79\n",
      " 13    2600          0.05       77.81    0.78\n",
      " 16    2800          0.03       77.81    0.78\n",
      " 19    3000          0.03       77.98    0.78\n",
      " 21    3200          0.03       77.05    0.77\n",
      " 24    3400          0.06       77.95    0.78\n",
      " 27    3600          0.02       76.41    0.76\n",
      " 30    3800          0.03       75.48    0.75\n",
      " 32    4000          0.02       77.60    0.78\n",
      "\u001b[38;5;2m✔ Saved pipeline to output directory\u001b[0m\n",
      "output/spacy_textcat/model-last\n"
     ]
    }
   ],
   "source": [
    "from spacy.cli.train import train as spacy_train\n",
    "\n",
    "config_path = \"spacy_textcat/config.cfg\"\n",
    "output_model_path = \"output/spacy_textcat\"\n",
    "spacy_train(\n",
    "    config_path,\n",
    "    output_path=output_model_path,\n",
    "    overrides={\n",
    "        \"paths.train\": \"train.spacy\",\n",
    "        \"paths.dev\": \"valid.spacy\",\n",
    "    },\n",
    ")"
   ]
  },
  {
   "cell_type": "markdown",
   "metadata": {},
   "source": [
    "Nous avons maintenant un modèle de classification entraîné !\n",
    "spaCy stocke le modèle dans des dossiers, et en sauve deux versions, le dernier état du modèle pour permettre de reprendre depuis ce checkpoint s'il on veut affiner le modèle, et le meilleur état du modèle observé pendant l'entraînement.\n",
    "Dans le fichier `meta.json` dans le dossier du modèle, on peut voir les scores interne qui ont été calculés pendant la validation, et l'on peut voir ici des scores de ~.8 en Macro F score et un AUC à .93.\n",
    "\n",
    "Le modèle ainsi entraîné et stocké peut ensuite être chargé via spaCy de cette manière :"
   ]
  },
  {
   "cell_type": "code",
   "execution_count": 24,
   "metadata": {},
   "outputs": [
    {
     "data": {
      "text/plain": [
       "{'datasets': 0.8466417193412781,\n",
       " 'dataengineering': 0.07126601785421371,\n",
       " 'LanguageTechnology': 0.08209223300218582}"
      ]
     },
     "execution_count": 24,
     "metadata": {},
     "output_type": "execute_result"
    }
   ],
   "source": [
    "import spacy\n",
    "\n",
    "trained_nlp = spacy.load(\"output/spacy_textcat/model-best\")\n",
    "\n",
    "# Let's try it on an example text\n",
    "text = \"Hello\\n I'm looking for data about birds in New Zealand.\\nThe dataset would contain the birds species, colors, estimated population etc.\"\n",
    "# Perform the trained pipeline on this text\n",
    "doc = trained_nlp(text)\n",
    "# We can display the predicted categories\n",
    "doc.cats"
   ]
  },
  {
   "cell_type": "markdown",
   "metadata": {},
   "source": [
    "On voit que le document une fois traité par la nouvelle pipeline dispose d'un attributs `.cats` et que dans ce cas la catégorie `datasets` est prédite avec 84% de confiance.\n",
    "\n",
    "Cependant, le reste de la pipeline est vide : pas d'information syntaxique, de dépendance ou d'entités."
   ]
  },
  {
   "cell_type": "code",
   "execution_count": 31,
   "metadata": {},
   "outputs": [
    {
     "name": "stdout",
     "output_type": "stream",
     "text": [
      "entities ()\n",
      "sentences error: [E030] Sentence boundaries unset. You can add the 'sentencizer' component to the pipeline with: `nlp.add_pipe('sentencizer')`. Alternatively, add the dependency parser or sentence recognizer, or set sentence boundaries by setting `doc[i].is_sent_start`.\n"
     ]
    }
   ],
   "source": [
    "print(\"entities\", doc.ents)\n",
    "try:\n",
    "    print(\"sentences\", list(doc.sents))\n",
    "except ValueError as e:\n",
    "    print(\"sentences\", \"error:\", e)"
   ]
  },
  {
   "cell_type": "markdown",
   "metadata": {},
   "source": [
    "Ces informations sont en revanche disponible et dans la pipeline pré-entraînée que nous avions utilisée au début (Mais évidemment, pas les catégories)."
   ]
  },
  {
   "cell_type": "code",
   "execution_count": 33,
   "metadata": {},
   "outputs": [
    {
     "name": "stdout",
     "output_type": "stream",
     "text": [
      "entities (New Zealand,)\n",
      "sentences [Hello\n",
      " I'm looking for data about birds in New Zealand., \n",
      ", The dataset would contain the birds species, colors, estimated population etc.]\n",
      "classification {}\n"
     ]
    }
   ],
   "source": [
    "doc_from_pretrained = nlp(text)\n",
    "print(\"entities\", doc_from_pretrained.ents)\n",
    "print(\"sentences\", list(doc_from_pretrained.sents))\n",
    "print(\"classification\", doc_from_pretrained.cats)\n"
   ]
  },
  {
   "cell_type": "markdown",
   "metadata": {},
   "source": [
    "La question est donc, **comment combiner les deux pipelines nativement** sans avoir à charger deux modèles séparément et écrire beaucoup de code pour recoller les morceaux ?"
   ]
  },
  {
   "cell_type": "markdown",
   "metadata": {},
   "source": [
    "## Intégration du nouveaux composant dans la pipeline existante\n",
    "Il y a en fait plusieurs manière de le faire :\n",
    "1. Créer un pipe et charger le modèle à partir du système de fichiers, mais cela aurait demandé d'utiliser un processus d'entraînement différent de celui que nous avons utilisé ici.\n",
    "\n",
    "```python\n",
    "pipe = nlp.add_pipe(\"textcat\")\n",
    "pipe.from_disk(\"path/to/model/files\") # Note, requires a different folder structure that what we've generated\n",
    "```\n",
    "\n",
    "2. Charger la pipeline, sauver le modèle du composant dans un fichier ou sous forme binaire, et le charger à nouveau dans un second temps depuis le disque / le binaire dans un nouveau pipe ajouté à la pipeline pré-entraînée.\n",
    "\n",
    "```python\n",
    "trained_nlp.get_pipe(\"textcat\").to_disk(\"tmp\")\n",
    "nlp.add_pipe(\"textcat\").from_disk(\"tmp\")\n",
    "# OR\n",
    "nlp.add_pipe(\"textcat\").from_bytes(\n",
    "    trained_nlp.get_pipe(\"textcat\").to_bytes()\n",
    ")\n",
    "```\n",
    "\n",
    "3. Créer le pipe depuis une pipeline source."
   ]
  },
  {
   "cell_type": "code",
   "execution_count": 36,
   "metadata": {},
   "outputs": [
    {
     "name": "stdout",
     "output_type": "stream",
     "text": [
      "entities (New Zealand,)\n",
      "sentences [Hello\n",
      " I'm looking for data about birds in New Zealand., \n",
      ", The dataset would contain the birds species, colors, estimated population etc.]\n",
      "classification {'datasets': 0.8466417193412781, 'dataengineering': 0.07126601785421371, 'LanguageTechnology': 0.08209223300218582}\n"
     ]
    },
    {
     "name": "stderr",
     "output_type": "stream",
     "text": [
      "/Users/yco/.pyenv/versions/myreddit/lib/python3.8/site-packages/spacy/language.py:707: UserWarning: [W113] Sourced component 'textcat' may not work as expected: source vectors are not identical to current pipeline vectors.\n",
      "  warnings.warn(Warnings.W113.format(name=source_name))\n"
     ]
    }
   ],
   "source": [
    "\n",
    "nlp_merged = spacy.load(\"en_core_web_md\")\n",
    "nlp_merged.add_pipe(\"textcat\", source=trained_nlp)\n",
    "doc_from_merged = nlp_merged(text)\n",
    "\n",
    "print(\"entities\", doc_from_merged.ents)\n",
    "print(\"sentences\", list(doc_from_merged.sents))\n",
    "print(\"classification\", doc_from_merged.cats)"
   ]
  },
  {
   "cell_type": "markdown",
   "metadata": {},
   "source": [
    "À partir de là, il est possible de sauver la pipeline sur le disque et de la réutiliser à volonté, ou encore de l'enrichir avec d'autres composants personalisés (pourquoi pas un second classifier, ou encore un modèle de NER complémentaire de celui présent dans la pipeline) avec l'ensemble des fonctionalités."
   ]
  },
  {
   "cell_type": "markdown",
   "metadata": {},
   "source": [
    "## Conclusion\n",
    "Dans ce tutoriel, nous avons vu comment entraîner et intégrer un composant de classification de textes à une pipeline pré-existante, d'une manière complètement programmatique.\n",
    "La grande valeur ajoutée de cette procédure est qu'elle peut être complètement automatisée et permettre d'entraîner / assembler un grand nombre de composants de manière modulaire et automatique (par exemple en CI/CD)\n",
    "\n",
    "J'espère que le post vous auta été utile et n'hésitez pas à me contacter si vous voulez plus de détails dans les commentaires !"
   ]
  }
 ],
 "metadata": {
  "kernelspec": {
   "display_name": "myreddit",
   "language": "python",
   "name": "myreddit"
  },
  "language_info": {
   "codemirror_mode": {
    "name": "ipython",
    "version": 3
   },
   "file_extension": ".py",
   "mimetype": "text/x-python",
   "name": "python",
   "nbconvert_exporter": "python",
   "pygments_lexer": "ipython3",
   "version": "3.8.6"
  },
  "orig_nbformat": 4
 },
 "nbformat": 4,
 "nbformat_minor": 2
}
