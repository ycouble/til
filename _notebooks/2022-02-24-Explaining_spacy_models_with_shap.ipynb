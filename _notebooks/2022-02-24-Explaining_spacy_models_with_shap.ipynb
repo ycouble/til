{
 "cells": [
  {
   "cell_type": "markdown",
   "metadata": {},
   "source": [
    "# Explaining Spacy Models with Shap\n",
    "> \"Using explainability to understand a NLP algorithm trained with Spacy\"\n",
    "\n",
    "- toc: false\n",
    "- branch: master\n",
    "- badges: true\n",
    "- comments: true\n",
    "- categories: [en, python, nlp, spacy, ml, mlops]\n",
    "- image: images/explain_nlp_cover.png\n",
    "- hide: false\n",
    "- search_exclude: false"
   ]
  },
  {
   "cell_type": "markdown",
   "metadata": {},
   "source": [
    "## Explainabili...what ?\n",
    "One of the most important downsides to Deep Learning is the apparent loss of interpretability that it introduces.\n",
    "As a matter of facts, Deep Learning models are no longer deterministic nor simple enough to be interpreted through their internal states. \n",
    "Models now have trillions of parameters with little to no sense at all.\n",
    "\n",
    "On of the recent trends to tackle this issue is to use explainability techniques, such as LIME and SHAP which can both be applied to any type of ML model.\n",
    "Both offer a large variety of tools to help understand the behavior of a model globally (what is learnt by the model) or locally (why the model took such or such decision for a given data).\n",
    "One popular and helpful way to explain a prediction from a model is to highlight which features contributed the most to the prediction. LIME and SHAP offer different ways to do so: \n",
    "- [LIME](https://github.com/marcotcr/lime) is an explainability technique that uses what we call a local surrogate model - i.e. a second model that locally approximates the model to explain - and infers explainability metrics from the second model. \n",
    "LIME is quite popular and very often used, even though the surrogate nature of the technique is often criticized (there is no guarantee that the surrogate model approximates well the actual model).\n",
    "- [SHAP](https://shap.readthedocs.io/en/latest/) is based on Shapeley Values, a game-theoretic concept that tests all possible combinations of features in order to determine the marginal contributions of each one.\n",
    "SHAP has more theoretical guarantees and good properties, hence it is often considered more reliable than LIME, even though it is more time consuming.\n",
    "\n",
    "More details can be found on both techniques in [this post](https://medium.com/@kalia_65609/interpreting-an-nlp-model-with-lime-and-shap-834ccfa124e4) or in [this excellent book from Christopher Molnar](https://christophm.github.io/interpretable-ml-book/).\n",
    "\n",
    "In this article we'll show how to use SHAP on textual inputs, and more specifically for the popular open source NLP library [SpaCy](https://spacy.io/)."
   ]
  },
  {
   "cell_type": "markdown",
   "metadata": {},
   "source": [
    "## Explaining Natural Language Processing models\n",
    "\n",
    "The discipline of processing texts is called Natural Language Processing.\n",
    "It contains (but is not limited to) using machine learning models to analyse texts.\n",
    "\n",
    "Unlike tabular data, where each feature can be represented by a number and can therefore be given directly to a model, text data need to be pre-processed before being provided to a ML model.\n",
    "This pre-processing text, called tokenization, basically consists of converting each word[^1] (token) into a number.\n",
    "For that the tokenizer requires a dictionary which will list all word to number matches.\n",
    "This dictionary is called a vocabulary.\n",
    "\n",
    "For example if my whole corpus is the following list of documents: `[\"I am Yoann Couble\", \"I work for PALO-IT\", \"I work with NLP for companies\"]`, the vocabulary would be :\n",
    "\n",
    "```json\n",
    "{\n",
    "    \"I\": 1,\n",
    "    \"am\": 2,\n",
    "    \"Yoann\": 3,\n",
    "    \"Couble\": 4,\n",
    "    \"work\": 5,\n",
    "    \"for\": 6,\n",
    "    \"PALO-IT\": 7,\n",
    "    \"with\": 8,\n",
    "    \"NLP\": 9,\n",
    "    \"companies\": 10,\n",
    "}\n",
    "```\n",
    "\n",
    "Therefore, tokenizing the last sentence would result in this vector : `[1, 5, 8, 9, 6, 10]`.\n",
    "\n",
    "The tokenizer is important to use explainability techniques, since these techniques often resort to twisting the inputs to observe the effects on the outputs.\n",
    "On text, varying the token integer representation would have no meaning at all.\n",
    "So instead, the explainer removes tokens from the input and observes the impact on the output of the model.\n",
    "With SHAP, the [permutation explainer](https://shap.readthedocs.io/en/latest/generated/shap.explainers.Permutation.html) does exactly that and in a way that enables to approximate shapeley values of each feature.\n",
    "\n",
    "As an example, permutation would mean passing \"I ... with NLP for ...\", \"... work with ... for companies\", etc. to the model and see by how much the result of the model changes.\n",
    "\n",
    "[^1]: Some tokenization algorithms are however even more fine grained than that and split words into sub-words, phonemes, syllables to allow for more robust or versatile language representation."
   ]
  },
  {
   "cell_type": "markdown",
   "metadata": {},
   "source": [
    "## Explaining the results of a SpaCy text classification model\n",
    "Now let's see in practice how to use SHAP to get some insights on a model trained with SpaCy (see [this article on how to do so](https://ycouble.github.io/til/en/python/nlp/spacy/ml/mlops/2022/02/01/Adding-a-text-classifier-to-a-spacy-pipeline.html)).\n",
    "In this article we're going to use text classification as an example, and a custom pipeline specialized for this.\n",
    "You can find the pipeline [here](https://github.com/ycouble/til/blob/master/_notebooks/explain_nlp/model-best.zip) (you'll need to unzip it) and the dataset [there](https://github.com/ycouble/til/blob/master/_notebooks/spacy_textcat/reddit_data.csv).\n",
    "\n",
    "### SpaCy wrappers for SHAP\n",
    "SHAP supports text data, but has little to no support for SpaCy models natively, so we'll need to create some wrappers and assemble precisely the different parts required by SHAP.\n",
    "\n",
    "The permutation explainer, which is the one preferred by SHAP for text data, requires several parameters:\n",
    "- a prediction function, which takes a list of texts and returns a list of results (in the case of a text classifier, this means the classes and their corresponding probability)\n",
    "- a tokenizer to build a Text masker for SHAP.\n",
    "\n",
    "These features are present in SpaCy nlp pipelines but not as functions. They are embedded in the pipeline and produce results inside the document object.\n",
    "Let's write some wrappers around the pipeline to conform to shap expectations."
   ]
  },
  {
   "cell_type": "code",
   "execution_count": 1,
   "metadata": {},
   "outputs": [
    {
     "name": "stdout",
     "output_type": "stream",
     "text": [
      "Note: you may need to restart the kernel to use updated packages.\n"
     ]
    }
   ],
   "source": [
    "%pip install -qqq shap \"spacy>3.2.0\" pandas"
   ]
  },
  {
   "cell_type": "code",
   "execution_count": 1,
   "metadata": {},
   "outputs": [],
   "source": [
    "import spacy\n",
    "\n",
    "textcat_spacy = spacy.load(\"model-best\")\n",
    "tokenizer_spacy = spacy.tokenizer.Tokenizer(textcat_spacy.vocab)\n",
    "\n",
    "classes = list(textcat_spacy.get_pipe(\"textcat\").labels)\n",
    "\n",
    "# Define a function to predict\n",
    "def predict(texts):\n",
    "    # convert texts to bare strings\n",
    "    texts = [str(text) for text in texts]\n",
    "    results = []\n",
    "    for doc in textcat_spacy.pipe(texts):\n",
    "        # results.append([{'label': cat, 'score': doc.cats[cat]} for cat in doc.cats])\n",
    "        results.append([doc.cats[cat] for cat in classes])\n",
    "    return results\n",
    "\n",
    "\n",
    "# Create a function to create a transformers-like tokenizer to match shap's expectations\n",
    "def tok_wrapper(text, return_offsets_mapping=False):\n",
    "    doc = tokenizer_spacy(text)\n",
    "    out = {\"input_ids\": [tok.norm for tok in doc]}\n",
    "    if return_offsets_mapping:\n",
    "        out[\"offset_mapping\"] = [(tok.idx, tok.idx + len(tok)) for tok in doc]\n",
    "    return out\n"
   ]
  },
  {
   "cell_type": "markdown",
   "metadata": {},
   "source": [
    "### Define the SHAP Explainer\n",
    "Now can define the shap explainer."
   ]
  },
  {
   "cell_type": "code",
   "execution_count": 2,
   "metadata": {},
   "outputs": [],
   "source": [
    "import shap\n",
    "\n",
    "# Create the Shap Explainer\n",
    "# - predict is the \"model\" function, adapted to a transformers-like model\n",
    "# - masker is the masker used by shap, which relies on a transformers-like tokenizer\n",
    "# - algorithm is set to permutation, which is the one used for transformers models\n",
    "# - output_names are the classes (although it is not propagated to the permutation explainer currently, which is why plots do not have the labels)\n",
    "# - max_evals is set to a high number to reduce the probability of cases where the explainer fails because there are too many tokens\n",
    "explainer = shap.Explainer(\n",
    "    predict,\n",
    "    masker=shap.maskers.Text(tok_wrapper),\n",
    "    algorithm=\"permutation\",\n",
    "    output_names=classes,\n",
    "    max_evals=1500,\n",
    ")"
   ]
  },
  {
   "cell_type": "markdown",
   "metadata": {},
   "source": [
    "### The dataset\n",
    "Let's import the dataset"
   ]
  },
  {
   "cell_type": "code",
   "execution_count": 3,
   "metadata": {},
   "outputs": [
    {
     "data": {
      "text/plain": [
       "'I’m looking for datasets or api source that quantifies fan base, or preferably, bettors’ sentiment regarding a team’s performance or direction. Does anyone know of an API that tracks this? For now I’m looking specifically for NBA, but am also interested in MLB, NFL, and NCAA f-ball and b-ball.'"
      ]
     },
     "execution_count": 3,
     "metadata": {},
     "output_type": "execute_result"
    }
   ],
   "source": [
    "import pandas as pd\n",
    "\n",
    "dataset = pd.read_csv(\"reddit_data.csv\")[\"text\"].tolist()\n",
    "dataset[0]"
   ]
  },
  {
   "cell_type": "markdown",
   "metadata": {},
   "source": [
    "## Explanations\n",
    "### Local explanations\n",
    "With the explainer and the data, we're now able to run the explanations from shap. Before plotting everything, let's get the shap values for one entry."
   ]
  },
  {
   "cell_type": "code",
   "execution_count": 4,
   "metadata": {},
   "outputs": [],
   "source": [
    "shap_values = explainer(dataset[:1])\n",
    "shap_values.output_names = classes"
   ]
  },
  {
   "cell_type": "markdown",
   "metadata": {},
   "source": [
    "The shap values contain 3 attributes:\n",
    "- the `values` themselves (one value per class per word)\n",
    "- the `base_value` (which can be seen as a prior: what we would get for a empty string)\n",
    "- the `data`: the words as they are tokenized\n",
    "\n",
    "From this structure we can generate plots to help visualize the explanation."
   ]
  },
  {
   "cell_type": "code",
   "execution_count": 5,
   "metadata": {},
   "outputs": [],
   "source": [
    "fig_html = shap.plots.text(shap_values, display=False)"
   ]
  },
  {
   "cell_type": "code",
   "execution_count": 1,
   "metadata": {},
   "outputs": [],
   "source": [
    "#hide \n",
    "from IPython.core.display import display, HTML\n",
    "display(HTML(fig_html))"
   ]
  },
  {
   "cell_type": "markdown",
   "metadata": {},
   "source": [
    "![Shap Text Plot for label LanguageTechology](explain_nlp/shap_1.png)<br>\n",
    "![Shap Text Plot for label datasets](explain_nlp/shap_2.png)<br>\n",
    "![Shap Text Plot for label dataengineering](explain_nlp/shap_3.png)"
   ]
  },
  {
   "cell_type": "markdown",
   "metadata": {},
   "source": [
    "We can see the shap text plots provide us two elements than can be interactively changed to display the shap values for each output label:\n",
    "- The first plot is a force plot, where the contribution of each word in favor (red) or against (blue) the selected label is displayed in a cumulative manner.\n",
    "The point where red and blue meet is the value predicted by the model for this label.\n",
    "- The second plot is the text with each word highlighted depending on its contribution to the final decision.\n",
    "\n",
    "That's it ! We've seen in this article how to adapt a SpaCy pipeline to be able to use shap for our NLP explanations.\n"
   ]
  }
 ],
 "metadata": {
  "interpreter": {
   "hash": "ee6d127c5ea32ef9451a868103c0a9bd2bd3e120dedba9455c4c30e8cd26a67e"
  },
  "kernelspec": {
   "display_name": "Python 3.8.6 64-bit ('myreddit')",
   "language": "python",
   "name": "python3"
  },
  "language_info": {
   "codemirror_mode": {
    "name": "ipython",
    "version": 3
   },
   "file_extension": ".py",
   "mimetype": "text/x-python",
   "name": "python",
   "nbconvert_exporter": "python",
   "pygments_lexer": "ipython3",
   "version": "3.8.6"
  },
  "orig_nbformat": 4
 },
 "nbformat": 4,
 "nbformat_minor": 2
}
