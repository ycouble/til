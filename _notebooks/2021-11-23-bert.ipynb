{
 "cells": [
  {
   "cell_type": "markdown",
   "metadata": {},
   "source": [
    "# \"La Famille BERT et les Transformers\"\n",
    "> \"Qu'est-ce que BERT ? Quel lien avec les transformers ? Pourquoi les utilise-t-on ? Comment ?\"\n",
    "\n",
    "- toc: false\n",
    "- branch: master\n",
    "- badges: true\n",
    "- comments: true\n",
    "- categories: [fr, ml, nlp]\n",
    "- hide: false\n",
    "- search_exclude: false\n",
    "- image: images/bert_cover.png\n"
   ]
  },
  {
   "cell_type": "markdown",
   "metadata": {},
   "source": [
    "## Une petite révolution\n",
    "Ces dernières années, la recherche en Intelligence Artificielle a été complètement transformée par une avancée technologique: les transformers.\n",
    "Avant de comprendre comment et pourquoi cette transformation s'est opérée, prenons un instant pour examiner comment la recherche en IA évalue une avancée technique.\n",
    "\n",
    "La recherche en IA se concentre depuis plusieurs années sur les tâches dites difficiles de la compréhension du monde: les systèmes de recommandation de contenu, l'extraction d'informations à partir de textes (discipline du traitement automatique du langage ou Natural Language Processing, NLP en anglais) ou d'image (Vision par ordinateur ou Computer Vision, CV) et plus récemment également sur l'audio.\n",
    "Chacune de ces discipline a déterminé un certain nombre de tâches d'extraction d'information que l'on cherche à faire effectuer à un programme, comme par exemple :\n",
    "- **La détection d'objets** (localiser une personne dans une image), **la segmentation d'image** (identifier la portion de l'image représentant une route), **la classification d'images** (dire si il s'agit d'une photo de lave-linge ou d'un frigo) en vision par ordinateur\n",
    "- **La classification de texte** (dire si un texte est positif ou négatif), **l'extraction d'entités nommées** d'un texte (identifier les noms de personnes, d'organisation, de pays etc.), **le résumé de texte** ou **la réponse aux questions** sur un texte dans le domaine du traitement du langage naturel.\n",
    "Pour chacune de ces tâches ont été déterminés des jeux de données de référence et des méthodologies d'évaluation de l'efficacité d'un algorithme à réaliser la tâche en question.\n",
    "\n",
    "Jusque là, les meilleures performances étaient atteintes par des modèles spécialisés pour chaque tâche précise, et l'entraînement de chaque modèle était un défi en soi.\n",
    "C'est dans ce contexte que les Transformers ont apporté une petite révolution: en 2018 dans l'article présentant BERT (*BERT: Pre-training of Deep Bidirectional Transformers for Language Understanding*), Google présente une méthodologie de pré-entraînement et de spécialisation qui, appliquée à une architecture à base de Transformers, surpasse l'état de l'art sur chacune des tâches classiques de traitement du langage naturel, et ce d'une marge conséquente."
   ]
  },
  {
   "cell_type": "markdown",
   "metadata": {
    "slideshow": {
     "slide_type": "slide"
    }
   },
   "source": [
    "## Pourquoi les Transformers et BERT fonctionnent-ils si bien ?\n",
    "La contribution du papier de BERT a été dans un premier temps de combiner avec succès plusieurs techniques déjà connues:\n",
    "1. Les Transformers, une architecture de Deep Learning qui avait déjà fait ses preuves. Cette architecture est basée sur le mécanisme d'attention, qui permet de prendre en compte tout le contexte d'un mot en accordant à priori autant d'importance à des mots éloignés qu'à des mots proches, contrairement aux modèles récurrents qui faisaient l'état de l'art avant l'arrivée des Transformers, en 2016 (cf. *Attention is All You Need*, Google 2016 dans les références.)\n",
    "\n",
    "![attention](bert/attention.png \"Mécanisme d'attention\")\n",
    "\n",
    "2. Le Transfer Learning, qui consiste à entraîner un modèle sur une tâche très générique (souvent non supervisée) sur un dataset gigantesque (par exemple le corpus de Wikipédia), puis à spécialiser le modèle en le modifiant sur une seconde tâche différente de manière supervisée et sur un dataset plus réduit.\n",
    "\n",
    "De plus, leur contribution est aussi et surtout dans la méthodologie de pré-entrainement du modèle de langage (le premier modèle), qui se fait en combinant deux tâches génériques non supervisées:\n",
    "1. La complétion de phrases à trou, c'est à dire trouver le meilleur mot pour compléter une phrase du type: \"je suis allé au ____ ce matin pour acheter mes légumes\".\n",
    "2. La prédiction de la prochaine phrase dans un texte.\n",
    "\n",
    "Ces deux tâches peuvent s'effectuer grâce à un entraînement auto-supervisé sur des datasets gigantesques comme l'intégralité de Wikipedia, des corpus de sites crawlé ou à partir des réseaux sociaux publics (Twitter, Reddit ...). En passant en revue tous ces contenus, l'algorithme devient de plus en plus performant à déterminer les mots qui vont généralement ensemble en fonction d'un contexte assez large (de l'ordre de la phrase ou du paragraphe).\n",
    "\n",
    "### Qu'est-ce que ça change ?\n",
    "Le gros changement apporté par BERT est cette idée de modèle de langage: la plupart des tâches de NLP ont en commun d'essayer de comprendre le contexte d'un mot et de trouver les relations entre les mots d'une phrase, et c'est ce que tente d'apporter le modèle de langage. Concrètement, cela signifie que pour n'importe quelle tâche de NLP, il suffit maintenant de réutiliser le modèle de langage pour avoir cette compréhension générale, puis de spécialiser la \"tête\" de l'architecture pour une tâche donnée.\n",
    "\n",
    "La seconde conséquence est d'ordre pratique: avec un modèle comme BERT, l'entraînement d'un modèle sur une tâche spécifique se résume généralement à n'entraîner que la tête de l'architecture, donc à un coût dérisoire par rapport à un modèle complet comme précédemment.\n",
    "\n",
    "Maintenant, il est devenu extrêmement facile d'utiliser et d'entraîner un modèle très performant pour toute une diversité de tâches de NLP. Cela a été grandement facilité par la publication du code et des modèles pré-entraînés, et par l'arrivée de Hugging Face, une entreprise de l'open source fondée par deux français qui propose une interface standard et un hub de modèles pour les transformers.\n",
    "\n",
    "![bert](bert/bert_training.png)"
   ]
  },
  {
   "cell_type": "markdown",
   "metadata": {},
   "source": [
    "## Utilisation des transformers\n",
    "BERT et les autres transformers sont conçus pour être réutilisable en grande partie pour différentes tâches, il ne reste donc qu'à réadapter les entrées et sorties à la tâche visée.\n",
    "Nous allons regarder dans cet article le cas de la spécialisation et de l'utilisation d'un modèle de transformer pour une tâche d'extraction d'entités nommées (NER) à partir de différentes bibliothèques open-source de NLP.\n",
    "\n",
    "### La tâche d'extraction d'entités nommées: données et annotation\n",
    "Le but de l'extraction d'entités nommées est de reconnaître dans un texte les mots ou ensembles de mots qui correspondent à des villes, pays, dates, langages de programmation, personnes ou tout autre catégorie pour lesquels on ne peut généralement pas lister l'ensemble des mots qui représentent ces entités.\n",
    "\n",
    "Par exemple, dans la phrase \"My name is Wolfgang and I live in Berlin\", la tâche de NER devrait permettre d'extraction des mots “Wolfgang”, classés en tant que personne et “Berlin” comme ville.\n",
    "\n",
    "Il s'agit en fin de compte d'une tâche de classification de token (un token est un mot ou une partie de mot), supervisée, et il y a plusieurs méthodes d'annotation des données. Nous allons présenter uniquement la méthode IOB, acronyme pour Inside, Outside et Begin, où chaque mot reçoit une annotation O ou I/B-[type d'entité]. Pour notre exemple cela donnerait ça:\n",
    "\n",
    "```\n",
    "My name is Wolfgang and I live in Berlin\n",
    "O    O   O   B-PER   0  0   0   0 B-CITY\n",
    "```\n",
    "\n",
    "Ou sur un second exemple:\n",
    "```\n",
    "I'm Yoann Couble and I write about Natural Language Processing in Python\n",
    "O O B-PER I-PER   O  0   O     O   B-TECH   I-TECH    I-TECH   O  B-LANG\n",
    "```\n",
    "\n",
    "L'objectif de l'algorithme sera donc de déterminer pour chaque token l'annotation à positionner."
   ]
  },
  {
   "cell_type": "markdown",
   "metadata": {},
   "source": [
    "\n",
    "\n",
    "### 🤗 Hugging Face Transformers\n",
    "Hugging Face a construit toute une API pour faciliter l'utilisation des transformers. La librairie propose des pipelines pré-définies et une bibliothèque de [modèles](https://huggingface.co/models) explorables par tâches et langue et de [datasets](https://huggingface.co/datasets) prêtes à l'emplois.\n",
    "L'avantage de Hugging Face est la grande diversité de modèles expérimentaux ou éprouvés qui sont disponibles sur le hub et la facilité d'utilisation et d'expérimentation qu'il permet.\n",
    "\n",
    "La configuration d'un modèle se fait très facilement (sans code) à l'aide d'un fichier de configuration: https://huggingface.co/dslim/bert-base-NER/blob/main/config.json\n",
    "\n",
    "```json\n",
    "{\n",
    "  \"_num_labels\": 9,\n",
    "  \"architectures\": [\n",
    "    \"BertForTokenClassification\"\n",
    "  ],\n",
    "  \"attention_probs_dropout_prob\": 0.1,\n",
    "  \"hidden_act\": \"gelu\",\n",
    "  \"hidden_dropout_prob\": 0.1,\n",
    "  \"hidden_size\": 768,\n",
    "  \"initializer_range\": 0.02,\n",
    "  \"intermediate_size\": 3072,\n",
    "  \"layer_norm_eps\": 1e-12,\n",
    "  \"max_position_embeddings\": 512,\n",
    "  \"model_type\": \"bert\",\n",
    "  \"num_attention_heads\": 12,\n",
    "  \"num_hidden_layers\": 12,\n",
    "  \"output_past\": true,\n",
    "  \"pad_token_id\": 0,\n",
    "  \"type_vocab_size\": 2,\n",
    "  \"vocab_size\": 28996,\n",
    "  # Labels\n",
    "  \"id2label\": {\n",
    "    \"0\": \"O\",\n",
    "    \"1\": \"B-MISC\",\n",
    "    \"2\": \"I-MISC\",\n",
    "    \"3\": \"B-PER\",\n",
    "    \"4\": \"I-PER\",\n",
    "    \"5\": \"B-ORG\",\n",
    "    \"6\": \"I-ORG\",\n",
    "    \"7\": \"B-LOC\",\n",
    "    \"8\": \"I-LOC\"\n",
    "  },\n",
    "  \"label2id\": {\n",
    "    \"B-LOC\": 7,\n",
    "    \"B-MISC\": 1,\n",
    "    \"B-ORG\": 5,\n",
    "    \"B-PER\": 3,\n",
    "    \"I-LOC\": 8,\n",
    "    \"I-MISC\": 2,\n",
    "    \"I-ORG\": 6,\n",
    "    \"I-PER\": 4,\n",
    "    \"O\": 0\n",
    "  }\n",
    "}\n",
    "```\n",
    "\n",
    "Ici l'architecture choisie est `BertForTokenClassification` ce qui correspond à notre tâche de NER. Et on retrouve aussi les différents hyper-paramètres des transformers (nombre de têtes d'attention, paramètres d'attention, ...). Pour pouvoir réutiliser les poids d'entraînement d'un modèle pré-entraîné, il faut faire attention à ne changer que ce qui ne casse pas la compatibilité avec le modèle pré-entraîné.\n",
    "\n",
    "Dans ce notebook nous n'allons pas entraîner de nouveau modèle, mais utiliser directement [le modèle qui a été entraîné avec la configuration présentée au-dessus](https://huggingface.co/dslim/bert-base-NER)."
   ]
  },
  {
   "cell_type": "markdown",
   "metadata": {},
   "source": [
    "### Pré-requis"
   ]
  },
  {
   "cell_type": "code",
   "execution_count": null,
   "metadata": {},
   "outputs": [],
   "source": [
    "%pip install --upgrade -q torch transformers \"spacy>=3.2.0\""
   ]
  },
  {
   "cell_type": "code",
   "execution_count": 1,
   "metadata": {},
   "outputs": [],
   "source": [
    "from transformers import AutoTokenizer, AutoModelForTokenClassification\n",
    "from transformers import pipeline\n",
    "\n",
    "model_name = \"dslim/bert-base-NER\"\n",
    "\n",
    "# Récupération du modèle et d'un tokenizer adapté (peut prendre du temps car il faut télécharger le modèle qui est assez volumineux)\n",
    "tokenizer = AutoTokenizer.from_pretrained(model_name)\n",
    "model = AutoModelForTokenClassification.from_pretrained(model_name)\n",
    "\n",
    "# Définition de la pipeline\n",
    "nlp = pipeline(\"ner\", model=model, tokenizer=tokenizer)"
   ]
  },
  {
   "cell_type": "code",
   "execution_count": 2,
   "metadata": {},
   "outputs": [
    {
     "data": {
      "text/plain": [
       "[{'entity': 'B-PER',\n",
       "  'score': 0.99901396,\n",
       "  'index': 4,\n",
       "  'word': 'Wolfgang',\n",
       "  'start': 11,\n",
       "  'end': 19},\n",
       " {'entity': 'B-LOC',\n",
       "  'score': 0.999645,\n",
       "  'index': 9,\n",
       "  'word': 'Berlin',\n",
       "  'start': 34,\n",
       "  'end': 40}]"
      ]
     },
     "execution_count": 2,
     "metadata": {},
     "output_type": "execute_result"
    }
   ],
   "source": [
    "# Utilisation sur un exemple\n",
    "example = \"My name is Wolfgang and I live in Berlin\"\n",
    "\n",
    "ner_results = nlp(example)\n",
    "ner_results"
   ]
  },
  {
   "cell_type": "markdown",
   "metadata": {},
   "source": [
    "Notons que seuls les tokens classifiés avec une entité sont montrés, le reste a reçu une annotation \"O\"."
   ]
  },
  {
   "cell_type": "markdown",
   "metadata": {},
   "source": [
    "### Utilisation des transformers avec SpaCy\n",
    "Spacy est une bibliothèque open-source permettant d'industrialiser des applications de traitement du langage naturel.\n",
    "L'avantage de Spacy par rapport à Hugging Face est qu'il va être possible de mutualiser un même modèle de langage à base de transformers pour plusieurs modèles spécialisés pour différentes tâches sur un même document.\n",
    "\n",
    "Spacy fournit également des modèles pré-entraînés et bien intégrés à Spacy. Ce sont les modèles finissant en `_trf` comme [celui-ci basé sur camembert-base](https://spacy.io/models/fr#fr_dep_news_trf)"
   ]
  },
  {
   "cell_type": "markdown",
   "metadata": {},
   "source": [
    "Pour pouvoir l'utiliser, il faut télécharger le modèle dans le même environnement virtuel / kernel (dans mon cas, un environnement pyenv)\n",
    "\n",
    "```bash\n",
    "pyenv activate transformers_3.8.6\n",
    "python -m spacy download en_core_web_trf\n",
    "```"
   ]
  },
  {
   "cell_type": "code",
   "execution_count": 11,
   "metadata": {},
   "outputs": [
    {
     "data": {
      "text/html": [
       "<span class=\"tex2jax_ignore\"><div class=\"entities\" style=\"line-height: 2.5; direction: ltr\">My name is \n",
       "<mark class=\"entity\" style=\"background: #aa9cfc; padding: 0.45em 0.6em; margin: 0 0.25em; line-height: 1; border-radius: 0.35em;\">\n",
       "    Wolfgang\n",
       "    <span style=\"font-size: 0.8em; font-weight: bold; line-height: 1; border-radius: 0.35em; vertical-align: middle; margin-left: 0.5rem\">PERSON</span>\n",
       "</mark>\n",
       " and I live in \n",
       "<mark class=\"entity\" style=\"background: #feca74; padding: 0.45em 0.6em; margin: 0 0.25em; line-height: 1; border-radius: 0.35em;\">\n",
       "    Berlin\n",
       "    <span style=\"font-size: 0.8em; font-weight: bold; line-height: 1; border-radius: 0.35em; vertical-align: middle; margin-left: 0.5rem\">GPE</span>\n",
       "</mark>\n",
       "</div></span>"
      ],
      "text/plain": [
       "<IPython.core.display.HTML object>"
      ]
     },
     "metadata": {},
     "output_type": "display_data"
    }
   ],
   "source": [
    "import spacy\n",
    "from spacy import displacy\n",
    "\n",
    "nlp = spacy.load(\"en_core_web_trf\")\n",
    "doc = nlp(\"My name is Wolfgang and I live in Berlin\")\n",
    "\n",
    "displacy.render(doc, \"ent\")"
   ]
  },
  {
   "cell_type": "markdown",
   "metadata": {},
   "source": [
    "## Une adoption qui s'étend maintenant au delà du langage\n",
    "Nous avons pu voir et comprendre l'apport de BERT et des transformers au paysage du NLP, et l'impact des transformers continue de faire son chemin, avec la vision qui a eu tôt fait de les adopter (modèls VIT, VILT, CLIP etc.) ainsi que l'audio et la vidéo.\n",
    "\n",
    "Maintenant, la recherche sur les transformers se plonge dans la convergence multi-modale (fusion Vidéo-Audio-Texte), avec notamment le très récent Data2Vec de Facebook AI Research cette année.\n",
    "Cela dit, le problème difficile de la compréhension du monde est loin d'être résolu, et la recherche continue d'être très active sur le sujet."
   ]
  },
  {
   "cell_type": "markdown",
   "metadata": {
    "slideshow": {
     "slide_type": "slide"
    },
    "tags": []
   },
   "source": [
    "## Ressources et rédérences sur le sujet\n",
    "### Références\n",
    "* Attention is all you need (2016, Transformer paper): https://arxiv.org/abs/1706.03762\n",
    "* BERT: Pre-training of Deep Bidirectional Transformers for Language Understanding (2018): https://arxiv.org/abs/1810.04805\n",
    "* Illustrated transformer: http://jalammar.github.io/illustrated-transformer/\n",
    "* BERT model doc on hugging face: https://huggingface.co/transformers/model_doc/bert.html#bertmodel\n",
    "* https://spacy.io/usage/embeddings-transformers\n",
    "\n",
    "### Exemples\n",
    "* Exemple de configuration sur le hub de huggingface: https://huggingface.co/dslim/bert-base-NER/blob/main/config.json\n",
    "* Transformers pour le NER FR https://huggingface.co/models?language=fr&pipeline_tag=token-classification&sort=downloads&search=ner\n",
    "* Use huggingface transformers within spacy: https://reposhub.com/python/deep-learning/explosion-spacy-transformers.html\n",
    "\n",
    "### Cours et ressources formatrices\n",
    "* https://www.coursera.org/learn/attention-models-in-nlp/home/welcome\n",
    "* https://huggingface.co/course/chapter1\n",
    "* https://course.spacy.io/en/chapter4\n",
    "* https://www.youtube.com/playlist?list=PL75e0qA87dlG-za8eLI6t0_Pbxafk-cxb"
   ]
  },
  {
   "cell_type": "markdown",
   "metadata": {},
   "source": []
  }
 ],
 "metadata": {
  "celltoolbar": "Diaporama",
  "kernelspec": {
   "display_name": "proto-38dev",
   "language": "python",
   "name": "proto-38dev"
  },
  "language_info": {
   "codemirror_mode": {
    "name": "ipython",
    "version": 3
   },
   "file_extension": ".py",
   "mimetype": "text/x-python",
   "name": "python",
   "nbconvert_exporter": "python",
   "pygments_lexer": "ipython3",
   "version": "3.8.11"
  }
 },
 "nbformat": 4,
 "nbformat_minor": 4
}
