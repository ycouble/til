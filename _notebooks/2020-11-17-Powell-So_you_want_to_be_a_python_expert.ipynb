{
 "cells": [
  {
   "cell_type": "markdown",
   "metadata": {},
   "source": [
    "# \"So you want to be a Python Expert\"\n",
    "> \"Notes and code from Talk of James Powell\"\n",
    "\n",
    "- toc: false\n",
    "- branch: master\n",
    "- badges: true\n",
    "- comments: true\n",
    "- categories: [en, python, raw]\n",
    "- hide: false\n",
    "- search_exclude: false\n"
   ]
  },
  {
   "cell_type": "markdown",
   "metadata": {},
   "source": [
    "# So you want to be a Python expert ?\n",
    "Talk by James Powell: https://www.youtube.com/watch?v=cKPlPJyQrt4\n",
    "\n",
    "## Topics\n",
    "- Python data-model\n",
    "- Decorators\n",
    "- Generators\n",
    "- Meta classes (not retranscripted here, he basically presented the mechanisms behind the ABC `@abstractclass` decorator)\n",
    "- Context Managers"
   ]
  },
  {
   "cell_type": "markdown",
   "metadata": {},
   "source": [
    "## Python data-model\n",
    "Python is entirely inspectable and has a very linear execution pattern (everything is read from top to bottom).\n",
    "The language makes it very easy to define operations, and to define different behaviours for any object."
   ]
  },
  {
   "cell_type": "code",
   "execution_count": 1,
   "metadata": {},
   "outputs": [],
   "source": [
    "class Summer:\n",
    "    def __init__(self, *args):\n",
    "        self.coefs = list(args)\n",
    "    \n",
    "    # It is possible to define a __call__ function so that the object is callable\n",
    "    def __call__(self):\n",
    "        return sum(self.coefs)\n",
    "    \n",
    "    # To be able to use built-in operators you may define these operation \n",
    "    # with the corresponding \"dunder\" (double under) method\n",
    "    def __add__(self, other):\n",
    "        return Summer(*(self.coefs + other.coefs))\n",
    "    \n",
    "    def __repr__(self):\n",
    "        return (f\"Summer({self.coefs})\")"
   ]
  },
  {
   "cell_type": "code",
   "execution_count": 2,
   "metadata": {},
   "outputs": [
    {
     "name": "stdout",
     "output_type": "stream",
     "text": [
      "Summer([1, 4, 5, 3, 10]) 23 Summer([1, 4, 5, 3, 10, 1, 4, 5, 3, 10]) 46\n"
     ]
    }
   ],
   "source": [
    "a = Summer(1,4,5,3,10)\n",
    "print(a, a(), a+a, (a+a)())"
   ]
  },
  {
   "cell_type": "markdown",
   "metadata": {},
   "source": [
    "Therefore, there is very limited difference between an empty object with a `__call__` method and a function."
   ]
  },
  {
   "cell_type": "code",
   "execution_count": 3,
   "metadata": {},
   "outputs": [],
   "source": [
    "# In Object defined function\n",
    "class Adder:\n",
    "    def __call__(self, x, y):\n",
    "        return x + y\n",
    "add_obj = Adder()\n",
    "\n",
    "# Function\n",
    "def add(x, y):\n",
    "    return x + y"
   ]
  },
  {
   "cell_type": "code",
   "execution_count": 4,
   "metadata": {},
   "outputs": [
    {
     "name": "stdout",
     "output_type": "stream",
     "text": [
      "<__main__.Adder object at 0x104a6f5f8> <function add at 0x104bf12f0>\n",
      "30 30\n"
     ]
    }
   ],
   "source": [
    "print(add_obj, add)\n",
    "print(add_obj(10, 20), add(10, 20))"
   ]
  },
  {
   "cell_type": "markdown",
   "metadata": {},
   "source": [
    "## Decorators\n",
    "Decorators are a syntaxic sugar of Python to define a function to wrap around any kind of function. Their main goal is to factor code and make it easier to maintain wrapping functions"
   ]
  },
  {
   "cell_type": "code",
   "execution_count": 5,
   "metadata": {},
   "outputs": [
    {
     "name": "stdout",
     "output_type": "stream",
     "text": [
      "30\n",
      "-10\n",
      "200\n"
     ]
    }
   ],
   "source": [
    "def add(x, y):\n",
    "    return x + y\n",
    "def sub(x, y):\n",
    "    return x - y\n",
    "def mult(x, y):\n",
    "    return x * y\n",
    "\n",
    "print(add(10, 20))\n",
    "print(sub(10, 20))\n",
    "print(mult(10, 20))"
   ]
  },
  {
   "cell_type": "markdown",
   "metadata": {},
   "source": [
    "For example if you want to debug this simple code, by printing the inputs and their types before executing the function, you could put the code in each function like this:"
   ]
  },
  {
   "cell_type": "code",
   "execution_count": 6,
   "metadata": {},
   "outputs": [
    {
     "name": "stdout",
     "output_type": "stream",
     "text": [
      "10 20\n",
      "30\n",
      "10 20\n",
      "-10\n",
      "10 20\n",
      "200\n"
     ]
    }
   ],
   "source": [
    "def add(x, y):\n",
    "    print(x, y)\n",
    "    return x + y\n",
    "def sub(x, y):\n",
    "    print(x, y)\n",
    "    return x - y\n",
    "def mult(x, y):\n",
    "    print(x, y)\n",
    "    return x * y\n",
    "\n",
    "print(add(10, 20))\n",
    "print(sub(10, 20))\n",
    "print(mult(10, 20))"
   ]
  },
  {
   "cell_type": "markdown",
   "metadata": {},
   "source": [
    "Or, you can define a function that, given a function, prints the inputs before returning the result of the function"
   ]
  },
  {
   "cell_type": "code",
   "execution_count": 7,
   "metadata": {},
   "outputs": [
    {
     "name": "stdout",
     "output_type": "stream",
     "text": [
      "10 20\n",
      "30\n",
      "10 20\n",
      "-10\n",
      "10 20\n",
      "200\n"
     ]
    }
   ],
   "source": [
    "def printer(func):\n",
    "    def wrapper(*args):\n",
    "        print(*args)\n",
    "        return func(*args)\n",
    "    return wrapper\n",
    "\n",
    "def add(x, y):\n",
    "    return x + y\n",
    "add = printer(add)\n",
    "def sub(x, y):\n",
    "    return x - y\n",
    "sub = printer(sub)\n",
    "def mult(x, y):\n",
    "    return x * y\n",
    "mult = printer(mult)\n",
    "\n",
    "print(add(10, 20))\n",
    "print(sub(10, 20))\n",
    "print(mult(10, 20))"
   ]
  },
  {
   "cell_type": "markdown",
   "metadata": {},
   "source": [
    "And then, Python provides a syntactic sugar that does exactly these `add = printer(add)`, but more beautifully:"
   ]
  },
  {
   "cell_type": "code",
   "execution_count": 8,
   "metadata": {},
   "outputs": [
    {
     "name": "stdout",
     "output_type": "stream",
     "text": [
      "10 20\n",
      "30\n",
      "10 20\n",
      "-10\n",
      "10 20\n",
      "200\n"
     ]
    }
   ],
   "source": [
    "def printer(func):\n",
    "    def wrapper(*args):\n",
    "        print(*args)\n",
    "        return func(*args)\n",
    "    return wrapper\n",
    "\n",
    "@printer\n",
    "def add(x, y):\n",
    "    return x + y\n",
    "\n",
    "@printer\n",
    "def sub(x, y):\n",
    "    return x - y\n",
    "\n",
    "@printer\n",
    "def mult(x, y):\n",
    "    return x * y\n",
    "\n",
    "print(add(10, 20))\n",
    "print(sub(10, 20))\n",
    "print(mult(10, 20))"
   ]
  },
  {
   "cell_type": "markdown",
   "metadata": {},
   "source": [
    "## Generators\n",
    "Generators are essentially functions that can give the hand back to the caller in the middle of their execution. It is a way to introduce lib-level to user-level interaction."
   ]
  },
  {
   "cell_type": "code",
   "execution_count": 9,
   "metadata": {},
   "outputs": [
    {
     "name": "stdout",
     "output_type": "stream",
     "text": [
      "<function one_then_two at 0x104bfd378>\n"
     ]
    }
   ],
   "source": [
    "def one_then_two():\n",
    "    print(\"first step\")\n",
    "    yield 1\n",
    "    print(\"second step\")\n",
    "    yield 2\n",
    "    print(\"third step: None\")\n",
    "\n",
    "print(one_then_two)"
   ]
  },
  {
   "cell_type": "code",
   "execution_count": 10,
   "metadata": {},
   "outputs": [
    {
     "name": "stdout",
     "output_type": "stream",
     "text": [
      "first step\n",
      "1\n",
      "second step\n",
      "2\n",
      "third step: None\n"
     ]
    },
    {
     "ename": "StopIteration",
     "evalue": "",
     "output_type": "error",
     "traceback": [
      "\u001b[0;31m---------------------------------------------------------------------------\u001b[0m",
      "\u001b[0;31mStopIteration\u001b[0m                             Traceback (most recent call last)",
      "\u001b[0;32m<ipython-input-10-1e40d6f632f3>\u001b[0m in \u001b[0;36m<module>\u001b[0;34m()\u001b[0m\n\u001b[1;32m      4\u001b[0m \u001b[0mb\u001b[0m \u001b[0;34m=\u001b[0m \u001b[0mnext\u001b[0m\u001b[0;34m(\u001b[0m\u001b[0ma\u001b[0m\u001b[0;34m)\u001b[0m\u001b[0;34m\u001b[0m\u001b[0m\n\u001b[1;32m      5\u001b[0m \u001b[0mprint\u001b[0m\u001b[0;34m(\u001b[0m\u001b[0mb\u001b[0m\u001b[0;34m)\u001b[0m\u001b[0;34m\u001b[0m\u001b[0m\n\u001b[0;32m----> 6\u001b[0;31m \u001b[0mnext\u001b[0m\u001b[0;34m(\u001b[0m\u001b[0ma\u001b[0m\u001b[0;34m)\u001b[0m\u001b[0;34m\u001b[0m\u001b[0m\n\u001b[0m",
      "\u001b[0;31mStopIteration\u001b[0m: "
     ]
    }
   ],
   "source": [
    "a = one_then_two()\n",
    "b = next(a)\n",
    "print(b)\n",
    "b = next(a)\n",
    "print(b)\n",
    "next(a)"
   ]
  },
  {
   "cell_type": "markdown",
   "metadata": {},
   "source": [
    "When there is no more yield statement, the generator raises a `StopIteration` exception to indicate it.\n",
    "\n",
    "Generators enables bidirectional interaction with the `send` built-in function"
   ]
  },
  {
   "cell_type": "code",
   "execution_count": 11,
   "metadata": {},
   "outputs": [
    {
     "data": {
      "text/plain": [
       "\u001b[0;31mDocstring:\u001b[0m\n",
       "send(arg) -> send 'arg' into generator,\n",
       "return next yielded value or raise StopIteration.\n",
       "\u001b[0;31mType:\u001b[0m      builtin_function_or_method\n"
      ]
     },
     "metadata": {},
     "output_type": "display_data"
    }
   ],
   "source": [
    "a.send?"
   ]
  },
  {
   "cell_type": "code",
   "execution_count": 12,
   "metadata": {},
   "outputs": [],
   "source": [
    "def lib(word):\n",
    "    message = \"\"\n",
    "    for _ in range(4):\n",
    "        message = yield (message + \" \" + word)\n",
    "        print(\"lib\", message)\n",
    "        \n",
    "def user(lib, word):\n",
    "    message = None\n",
    "    try:\n",
    "        for _ in range(10):\n",
    "            message = lib.send(message) + \" \" + word\n",
    "            print(\"user\", message)\n",
    "    except StopIteration:\n",
    "        print(\"the end\")"
   ]
  },
  {
   "cell_type": "code",
   "execution_count": 13,
   "metadata": {},
   "outputs": [
    {
     "name": "stdout",
     "output_type": "stream",
     "text": [
      "user  ping pong\n",
      "lib  ping pong\n",
      "user  ping pong ping pong\n",
      "lib  ping pong ping pong\n",
      "user  ping pong ping pong ping pong\n",
      "lib  ping pong ping pong ping pong\n",
      "user  ping pong ping pong ping pong ping pong\n",
      "lib  ping pong ping pong ping pong ping pong\n",
      "the end\n"
     ]
    }
   ],
   "source": [
    "ping = lib(\"ping\")\n",
    "pong = user(ping, \"pong\")\n"
   ]
  },
  {
   "cell_type": "markdown",
   "metadata": {},
   "source": [
    "Generators are also used for lazy computing: Iterating over a list of items without computing all of their values at once. It is especially useful when you may not need all of the values."
   ]
  },
  {
   "cell_type": "code",
   "execution_count": 14,
   "metadata": {},
   "outputs": [
    {
     "name": "stdout",
     "output_type": "stream",
     "text": [
      "0\n",
      "1\n",
      "2\n",
      "3\n",
      "4\n",
      "5\n"
     ]
    }
   ],
   "source": [
    "def integers():\n",
    "    i = 0\n",
    "    while True:\n",
    "        yield i\n",
    "        i += 1\n",
    "        \n",
    "for i in integers():\n",
    "    print(i)\n",
    "    if i >= 5:\n",
    "        break"
   ]
  },
  {
   "cell_type": "markdown",
   "metadata": {},
   "source": [
    "At all points in the above code, only one integer was kept in memory, compared with a huge (inifite) list of all integers."
   ]
  },
  {
   "cell_type": "markdown",
   "metadata": {},
   "source": [
    "## Context Managers\n",
    "Context managers are functions that help manage before and after steps, like opening a connection to a db, opening a file, creating a table and dropping it after etc."
   ]
  },
  {
   "cell_type": "code",
   "execution_count": 15,
   "metadata": {},
   "outputs": [
    {
     "name": "stdout",
     "output_type": "stream",
     "text": [
      "{'a': 19, 'list': [], 'dict': {}, 'description': ''}\n",
      "{'a': 19, 'list': [1, 2], 'dict': {'hello': 100}, 'description': 'arbitrarily filled dict'}\n",
      "{'a': 19}\n"
     ]
    }
   ],
   "source": [
    "def prepare(d):\n",
    "    d[\"list\"] = []\n",
    "    d[\"dict\"] = {}\n",
    "    d[\"description\"] = \"\"\n",
    "\n",
    "def destroy(d):\n",
    "    d.pop(\"list\")\n",
    "    d.pop(\"dict\")\n",
    "    d.pop(\"description\")\n",
    "    \n",
    "def some_actions(d):\n",
    "    d[\"list\"].append(1)\n",
    "    d[\"list\"].append(2)\n",
    "    d[\"dict\"][\"hello\"] = 100\n",
    "    d[\"description\"] = \"arbitrarily filled dict\"\n",
    "    \n",
    "d = dict(a=19)\n",
    "prepare(d)\n",
    "print(d)\n",
    "some_actions(d)\n",
    "print(d)\n",
    "destroy(d)\n",
    "print(d)"
   ]
  },
  {
   "cell_type": "markdown",
   "metadata": {},
   "source": [
    "To avoid doing the prepare/destroy each time you want to use the function `some_action`, it is possible to use a context manager, which are designed exactly for that.\n",
    "\n",
    "A context manager is essentially an object with an `__enter__` and a `__exit__` method, it is called with the `with`statement."
   ]
  },
  {
   "cell_type": "code",
   "execution_count": 16,
   "metadata": {},
   "outputs": [
    {
     "name": "stdout",
     "output_type": "stream",
     "text": [
      "{'a': 19}\n",
      "{'a': 19, 'list': [], 'dict': {}, 'description': ''}\n",
      "{'a': 19, 'list': [1, 2], 'dict': {'hello': 100}, 'description': 'arbitrarily filled dict'}\n",
      "{'a': 19}\n"
     ]
    }
   ],
   "source": [
    "class DictManager:\n",
    "    def __init__(self, d):\n",
    "        self._dict = d\n",
    "        \n",
    "    def __enter__(self):\n",
    "        self._dict[\"list\"] = []\n",
    "        self._dict[\"dict\"] = {}\n",
    "        self._dict[\"description\"] = \"\"\n",
    "    \n",
    "    def __exit__(self, *args):\n",
    "        self._dict.pop(\"list\")\n",
    "        self._dict.pop(\"dict\")\n",
    "        self._dict.pop(\"description\")\n",
    "\n",
    "d = dict(a=19)\n",
    "print(d)\n",
    "with DictManager(d):\n",
    "    print(d)\n",
    "    some_actions(d)\n",
    "    print(d)\n",
    "print(d)"
   ]
  },
  {
   "cell_type": "markdown",
   "metadata": {},
   "source": [
    "And since `__enter__` and `__exit__` are called in order, there can be a generator that creates the sequence:"
   ]
  },
  {
   "cell_type": "code",
   "execution_count": 17,
   "metadata": {},
   "outputs": [
    {
     "name": "stdout",
     "output_type": "stream",
     "text": [
      "{'a': 19}\n",
      "init d\n",
      "{'a': 19, 'list': [], 'dict': {}, 'description': ''}\n",
      "{'a': 19, 'list': [1, 2], 'dict': {'hello': 100}, 'description': 'arbitrarily filled dict'}\n",
      "restored d\n",
      "{'a': 19}\n"
     ]
    }
   ],
   "source": [
    "class DictManager:\n",
    "    def __init__(self, gen):\n",
    "        self.gen = gen\n",
    "    \n",
    "    def __call__(self, *args, **kwargs):\n",
    "        self.args, self.kwargs = args, kwargs\n",
    "        return self\n",
    "        \n",
    "    def __enter__(self):\n",
    "        self.gen_inst = self.gen(*self.args, **self.kwargs)\n",
    "        next(self.gen_inst)\n",
    "    \n",
    "    def __exit__(self, *args):\n",
    "        next(self.gen_inst, None)\n",
    "\n",
    "def tempdict(d):\n",
    "    d[\"list\"] = []\n",
    "    d[\"dict\"] = {}\n",
    "    d[\"description\"] = \"\"\n",
    "    print(\"init d\")\n",
    "    yield\n",
    "    d.pop(\"list\")\n",
    "    d.pop(\"dict\")\n",
    "    d.pop(\"description\")\n",
    "    print(\"restored d\")\n",
    "tempdict = DictManager(tempdict)\n",
    "        \n",
    "d = dict(a=19)\n",
    "print(d)\n",
    "with tempdict(d):\n",
    "    print(d)\n",
    "    some_actions(d)\n",
    "    print(d)\n",
    "print(d)"
   ]
  },
  {
   "cell_type": "markdown",
   "metadata": {},
   "source": [
    "And that is basically what a context manager is. There is a predefined `contextmanager` decorator which does this for us:"
   ]
  },
  {
   "cell_type": "code",
   "execution_count": 18,
   "metadata": {},
   "outputs": [
    {
     "name": "stdout",
     "output_type": "stream",
     "text": [
      "{'a': 19}\n",
      "init d\n",
      "{'a': 19, 'list': [], 'dict': {}, 'description': ''}\n",
      "{'a': 19, 'list': [1, 2], 'dict': {'hello': 100}, 'description': 'arbitrarily filled dict'}\n",
      "restored d\n",
      "{'a': 19}\n"
     ]
    }
   ],
   "source": [
    "from contextlib import contextmanager\n",
    "@contextmanager\n",
    "def tempdict(d):\n",
    "    d[\"list\"] = []\n",
    "    d[\"dict\"] = {}\n",
    "    d[\"description\"] = \"\"\n",
    "    print(\"init d\")\n",
    "    try:\n",
    "        yield\n",
    "    finally:\n",
    "        d.pop(\"list\")\n",
    "        d.pop(\"dict\")\n",
    "        d.pop(\"description\")\n",
    "        print(\"restored d\")\n",
    "        \n",
    "d = dict(a=19)\n",
    "print(d)\n",
    "with tempdict(d):\n",
    "    print(d)\n",
    "    some_actions(d)\n",
    "    print(d)\n",
    "print(d)"
   ]
  },
  {
   "cell_type": "markdown",
   "metadata": {},
   "source": [
    "So, in the end, all you have to do to create a proper context manager is to import the `contextmanager` decorator from contextlib, and put it on a function that calls yield once, surrounded preferably by a `try`/`finally` statement to always perfome the closing instructions"
   ]
  }
 ],
 "metadata": {
  "kernelspec": {
   "display_name": "Python 3",
   "language": "python",
   "name": "python3"
  },
  "language_info": {
   "codemirror_mode": {
    "name": "ipython",
    "version": 3
   },
   "file_extension": ".py",
   "mimetype": "text/x-python",
   "name": "python",
   "nbconvert_exporter": "python",
   "pygments_lexer": "ipython3",
   "version": "3.7.0"
  }
 },
 "nbformat": 4,
 "nbformat_minor": 2
}
